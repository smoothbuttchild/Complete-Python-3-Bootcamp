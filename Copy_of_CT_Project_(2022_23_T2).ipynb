{
  "nbformat": 4,
  "nbformat_minor": 0,
  "metadata": {
    "colab": {
      "private_outputs": true,
      "provenance": [],
      "include_colab_link": true
    },
    "kernelspec": {
      "name": "python3",
      "display_name": "Python 3"
    },
    "language_info": {
      "name": "python"
    },
    "gpuClass": "standard"
  },
  "cells": [
    {
      "cell_type": "markdown",
      "metadata": {
        "id": "view-in-github",
        "colab_type": "text"
      },
      "source": [
        "<a href=\"https://colab.research.google.com/github/smoothbuttchild/Complete-Python-3-Bootcamp/blob/master/Copy_of_CT_Project_(2022_23_T2).ipynb\" target=\"_parent\"><img src=\"https://colab.research.google.com/assets/colab-badge.svg\" alt=\"Open In Colab\"/></a>"
      ]
    },
    {
      "cell_type": "markdown",
      "source": [
        "# COR-IS1702 Computational Thinking (2022/23 Term 2)\n",
        "# Group Project: <b>Recommending Friend Pairs on a Social Network</b>\n",
        "---\n",
        "## (1) Changes to this document\n",
        "* Significant changes to this document will be listed here.\n",
        "* <font color=red>20/3/2023</font>: Inserted last 2 points in section (2)\n",
        "* <font color=red>21/3/2023</font>: Corrected mistake in section (9) example 5. The original example 5 mentioned that A & K has no common friend, but A & K has a common friend (F). The example has been changed to user A and I instead. A & I have no common friend. (Thanks Sean Lim for alerting us.)\n",
        "\n",
        "## (2) General Instructions\n",
        "* Requirements (this document) release: 20th Mar 2023 (Week 11, Mon)\n",
        "* Deadline: **3rd Apr 2023** (Week 13, Mon) 23:00 hrs. **Late submissions will be awarded zero.**\n",
        "* Teams: You would have been assigned to a team of 2 (or 3) by your faculty. Please check with your faculty/respective TA if you are unsure of your team allocation asap.\n",
        "* Clarifications: questions about the requirements can be sent to senior TA (hwliu.2018@phdcs.smu.edu.sg). Please do not ask for hints!\n",
        "* <i>(inserted on 20/3)</i> This course focuses on improving performance (time taken) via better algorithms, even though the way you write your code may affect performance. Students should not attempt to improve performance by using multi-threading, or multi-tasking (using multiple machines to solve parts of the problem), forwarding the input to a remote server that uses a high performance language to solve or other novel ways that are not algorithm-related. Do clarify with your faculty or Senior TA if in doubt.\n",
        "* <i>(inserted on 20/3)</i> Collab already comes with several 3rd party libraries (e.g. pandas, numpy etc.). You are allowed to use these libraries (just insert the correct `import` statement), but do not install (`!pip install`) any other 3rd party libraries in collab even if you know how to. Your solution must work in standard collab. We won't be installing any special 3rd party libraries for you when marking.\n",
        "\n",
        "## (3) Warning\n",
        "* Cheating, plagiarism and dishonesty will be severely punished and filed officially as a disciplinary record with the University.\n",
        "* Distribution of solutions is equally culpable as the copying of solutions. Do **not** share solutions/partial solutions with other teams, including posting code at any forum or public code repository (e.g. GitHub with public access).\n",
        "* When in doubt as to whether an action is considered dishonest, do consult your faculty member.\n",
        "* You must acknowledge usage of 3rd party code/libraries in your report.\n",
        "\n",
        "## (4) Deliverablies\n",
        "* You are required to submit to eLearn a single zip file (`Gx_Ty.zip` - where `x` is your section, and `y` is your team number) that contains:\n",
        "<ol>\n",
        "<li>Your <code>Gx_Ty.py</code> file (with the <code>recommendFriendPair()</code> function), and\n",
        "<li>a report in the form of a PowerPoint file. You may submit a PDF file or a ppt/pptx file (<code>Gx_Ty.pptx/pdf</code>).\n",
        "</ol>\n",
        "* Any member of the team can submit, but only the latest submission (by any member) will be stored and used for grading.\n",
        "* Submission: to [eLearn (Merged)](https://elearn.smu.edu.sg/d2l/home/348312)->Assignments. Any member of the team may submit on behalf of the team. You may submit as many times as you wish, but only the last submission is kept on eLearn. The last submission on the deadline will be considered as the final submission that will be assessed.\n",
        "* Your faculty **may** select outstanding teams to present their solution (report) to the class. Please check with your respective faculty concerning this.\n",
        "\n",
        "## (5) Scoring\n",
        "* Weight: This project is worth 20% of your course grade. In some cases, individual members of each team may not be awarded the same score.\n",
        "* Rubric:\n",
        "<ol>\n",
        "<li>Quality score (12%)\n",
        "<li>Running time (5%). Your code must <b>not</b> take more than 30 seconds to complete running on colab for any of the sample networks given.\n",
        "<li>Report (3%)\n",
        "</ol>\n",
        "Scoring is competitive. This means that student's quality score and running time will be compared with other submissions in the whole cohort, and marks awarded based on your relative rank. Students are hence strongly encouraged to attempt a few algorithms and submit the \"best\" one as your final submission.\n",
        "\n",
        "## (6) Report (ppt slides)\n",
        "* Cover: Indicate group (`Gx_Ty`) and member names on the cover slide.\n",
        "* Content (max: 3 ppt slides)\n",
        "<ol>\n",
        "<li>Explain your algorithm and how it works (you may use pseudocode)\n",
        "<li>Derive the worse-case Big O time complexity of your algo (show your assumptions and working)\n",
        "<li>Focus on clarity\n",
        "</ol>\n",
        "* Contribution: Include a slide that shows the specific contribution of each member\n",
        "* References: Include references if relevant. Include URLs if available in your references. You **MUST** acknowledge usage of 3rd party code/libraries and ideas to avoid plagarism.\n",
        "\n",
        "## (7) Dealing with team issues\n",
        "* One of the objectives of group projects is to learn how to work effectively in a team. Do ensure that all members contribute constructively to the team effort.\n",
        "* If a team member does not contribute or does not respond, please alert your faculty as early as possible so that remediation action can be taken.\n",
        "* You are required to include a section in your project report that briefly describes individual contributions to the project.\n",
        "* After the project deadline, selected team members may be interviewed by your respective faculty. Do preserve evidence of communication and contribution within the team until the end of this term."
      ],
      "metadata": {
        "id": "c2g_2UuHJEMS"
      }
    },
    {
      "cell_type": "markdown",
      "source": [
        "## (8) Context\n",
        "A social network platform wants to recommend some users who are not yet friends to become friends, as a campaign to boost community connection and activity level. Research on social networks has yielded the following general observations:\n",
        "\n",
        "<ol>\n",
        "<li> It is found that a user is more likely to accept a friend recommendation if he and the recommended friend have a large number of common friends.\n",
        "<li> In general, a user is more likely to accept a friend recommendation if the recommended friend is more selective in making friends. A user is deemed more selective if he has fewer friends.\n",
        "<li> In a social network, some users are indiscriminate when befriending others and therefore have an excessively large number of friends. These are considered non-selective users.\n",
        "</ol>\n",
        "We have come up with a model which incorparates the above observations into a quantitative measure called the S score (S stands for \"strength\"). S is a quantitative measure of the strength of a potential link between two users in a social network.\n",
        "\n",
        "\n",
        "**S Equation**\n",
        "\n",
        "$$\n",
        "S(u,v) = \\frac{1}{\\log f1} + \\frac{1}{\\log f2} + \\frac{1}{\\log f3} + ...\n",
        "$$\n",
        "where:\n",
        "- S($u$,$v$) = strength of 2 users $u$ and $v$ who are currently not friends\n",
        "- $fx$ is the number of friends that user x has.\n",
        "- users 1, 2 and 3 are common friends of $u$ and $v$. We are showing only 3 common friends here. If $u$ and $v$ have $n$ common friends, there will be $n$ terms in the equation.\n",
        "\n",
        "This measure takes into consideration of the number of common friends of $u$ and $v$ -- the more common friends they have, the greater the measure (Observation 1) -- and the selectiveness of each common friend $w$ -- the $\\log()$ scales down the number of friends of $w$ and the reciprocal for the log number of friends of $w$ makes it such that the less selective $w$ is in making friends, the less $w$ would weigh in the counting of the common friends between $u$ and $v$ (Observations 2 and 3).\n",
        "\n",
        "For this project, a social network is modeled as a undirected graph: each vertex is a user, and each edge represents a mutual friendship in this social network. Friendships must be mutual (i.e. is $u$ is a friend of $v$, $v$ will definitely be a friend of $u$). Users who are not friends will not be directly connected via an edge.\n",
        "\n",
        "\n"
      ],
      "metadata": {
        "id": "MSBEUrIif14x"
      }
    },
    {
      "cell_type": "markdown",
      "source": [
        "## (9) Examples\n",
        "Here is an example of a small social network with 11 users (A, B, C... K). In this network, A has 4 friends (B, D, E and F) and D has 6 friends.\n",
        "\n",
        "![image.png](https://github.com/HuiwenLiu/CT-T2_AY22-23/raw/main/example.jpg)"
      ],
      "metadata": {
        "id": "IHD95bmcWaUK"
      }
    },
    {
      "cell_type": "markdown",
      "source": [
        "**Example 1**: K and G are not friends, and we can recommend that K and G become friends.\n",
        "- K and G have got 4 common friends: F, I, J, H\n",
        "- F, I, J and H have got 5, 4, 4, 5 friends respectively.\n",
        "- This is how the strength of this recommendation is calculated:\n",
        "<ul>\n",
        "$$\n",
        "S(K,G) = \\frac{1}{\\log 5} + \\frac{1}{\\log 4} + \\frac{1}{\\log 4} + \\frac{1}{\\log 5} = 6.18\n",
        "$$\n",
        "</ul>\n",
        "\n",
        "**Example 2**: A and G are not friends, and we can recommend that A and G become friends.\n",
        "- A and G have got 3 common friends: D, E and F\n",
        "- D, E and F have got 6, 4, 5 friends respectively.\n",
        "- This is how the strength of this recommendation is calculated:\n",
        "<ul>\n",
        "$$\n",
        "S(A,G) = \\frac{1}{\\log 6} + \\frac{1}{\\log 4} + \\frac{1}{\\log 5} = 4.38\n",
        "$$\n",
        "</ul>\n",
        "\n",
        "**Example 3**: A and C are not friends, and we can recommend that A and C become friends.\n",
        "- A and C have got 2 common friends: B and D.\n",
        "- B and D have got 3 and 6 friends respectively.\n",
        "- This is how the strength of this recommendation is calculated:\n",
        "<ul>\n",
        "$$\n",
        "S(A,C) = \\frac{1}{\\log 3} + \\frac{1}{\\log 6} = 3.38\n",
        "$$\n",
        "</ul>\n",
        "\n",
        "**Example 4**: A and J are not friends, and we can recommend that A and J become friends.\n",
        "- A and J have got 1 common friend only: F\n",
        "- F has got 5 friends.\n",
        "- This is how the strength of this recommendation is calculated:\n",
        "<ul>\n",
        "$$\n",
        "S(A,J) = \\frac{1}{\\log 5} = 1.43\n",
        "$$\n",
        "</ul>\n",
        "\n",
        "**Example 5**: A and I are not friends, and we can recommend that A and I become friends.\n",
        "- A and I have got 0 common friends\n",
        "- This is how the strength of this recommendation is calculated:\n",
        "<ul>\n",
        "$$\n",
        "S(A,I) = 0\n",
        "$$\n",
        "</ul>\n",
        "\n",
        "<br>\n",
        "Of these 5 examples, the best recommendation shall be (K, G) because its S score is the highest."
      ],
      "metadata": {
        "id": "6uRFeWYpXZcL"
      }
    },
    {
      "cell_type": "markdown",
      "source": [
        "---\n",
        "## (10) Scoring\n",
        "\n",
        "You are given a social network $G$ with $N$ users and $E$ existing friend pairs.\n",
        "Your task is to design an algorithm to recommend a new friend pair in the network. (The optimal solution is the new friend pair with the highest $S$ score in $G$, but your algorithm does not need to produce the optimal solution.)\n",
        "\n",
        "Your algorithm will be evaluated in two ways:\n",
        "- Running time (5%). The algorithm execution time on colab must **not** exceed 30 seconds (0 mark if it exeeds 30s). You will get a higher score for a shorter running time.\n",
        "\n",
        "- Quality score (12%). You will get a higher score for a higher quality score. Your quality score is $S$.\n",
        "<br>\n",
        "\n",
        "---\n",
        "\n",
        "## (11) Sample Networks:\n",
        "In addition to the small 11-user network given above, you are given 6 more sample networks for testing purposes. Each network is basically a text file (adjacency table) that represents an undirected graph.\n",
        "<ul>\n",
        "<li>network_example (11 users, 24 edges). Based on example above.  \n",
        "<li>network_<b>g1</b> (50 users, 605 edges).\n",
        "<li>network_<b>g2</b> (100 users, 2513 edges)\n",
        "<li>network_<b>g3</b> (200 users, 9986 edges)\n",
        "<li>network_<b>t1</b> (50 users, 253 edges)\n",
        "<li>network_<b>t2</b> (100 users, 1034 edges)\n",
        "<li>network_<b>t3</b> (200 users, 3972 edges)\n",
        "</ul>\n",
        "\n",
        "The first 3 networks (network_g1 to g3) are networks generated randomly for this assignment. The last 3 networks (network_t1 to t3) are created from real Twitter networks. These 2 groups of networks may have different characteristics.\n",
        "\n",
        "After the submission deadline, your submission will be scored using new networks of similar characteristics that will not be given to you. A good algorithm is expected to work well with novel networks.\n",
        "\n",
        "---\n",
        "Before you start, run the next code fragment to download these 7 .txt (comma separated values) files - each of which represent one of the given networks - that you will need to your colab environment, as well as some functions that are required."
      ],
      "metadata": {
        "id": "IgrW0VynWb-N"
      }
    },
    {
      "cell_type": "markdown",
      "source": [],
      "metadata": {
        "id": "MZfRTz5n6VRZ"
      }
    },
    {
      "cell_type": "markdown",
      "source": [],
      "metadata": {
        "id": "Kmotnqg1tuO0"
      }
    },
    {
      "cell_type": "code",
      "source": [
        "from urllib.request import urlretrieve # download data from remote database\n",
        "import os\n",
        "import numpy as np\n",
        "import itertools\n",
        "\n",
        "# represents a social network with N vertices (users) and E edges (friend pair)\n",
        "class Network:\n",
        "    def __init__(self, fpath):\n",
        "        self.network, self.N, self.E = self._read_network(fpath)\n",
        "\n",
        "    def _read_network(self, fpath):\n",
        "        network = []\n",
        "        edges = 0\n",
        "        with open(fpath, 'r') as f:\n",
        "            for l in f:\n",
        "                tokens = l.strip().split(',')\n",
        "                user_cnn = []\n",
        "                for tok in tokens:\n",
        "                    user_cnn.append(int(tok))\n",
        "                    if int(tok) == 1:\n",
        "                        edges += 1\n",
        "                network.append(user_cnn)\n",
        "\n",
        "        network = np.array(network)\n",
        "        return network, len(network), edges/2\n",
        "\n",
        "    def isEmpty(self):\n",
        "        return self.N == 0\n",
        "\n",
        "    # return all neighbors of user u in the network as a list\n",
        "    def getNeighbors(self, u):\n",
        "        if u < 0 or u >= self.N:\n",
        "            exception_msg = \"Cannot find the user \" + str(u) +\" in the network!\"\n",
        "            raise Exception(exception_msg)\n",
        "        neighbors = np.where(self.network[u])[0]\n",
        "        return neighbors\n",
        "\n",
        "    # returns 1 if u and v are friends (direct neighbors), or 0 if u and v are not friends\n",
        "    def isFriend(self, u, v):\n",
        "        if u < 0 or u >= self.N:\n",
        "            exception_msg = \"Cannot find the user \" + str(u) +\" in the network!\"\n",
        "            raise Exception(exception_msg)\n",
        "        if v < 0 or v >= self.N:\n",
        "            exception_msg = \"Cannot find the user \" + str(v) +\" in the network!\"\n",
        "            raise Exception(exception_msg)\n",
        "        return self.network[u][v]\n",
        "\n",
        "\n",
        "# check if answer is OK (returns None if OK, else returns an error msg)\n",
        "def get_error_message(answer, given_network):\n",
        "    if answer == None:\n",
        "        return \"Error : your function returned None. It should return a list/tuple of 2 integers.\"\n",
        "    elif type(answer) not in [list, tuple]:\n",
        "        return \"Error : your function returned something other than a list/tuple. It should return a list of 2 integers.\"\n",
        "    elif len(answer) != 2:\n",
        "        return \"Error : your function returned a list/tuple of fewer than, or more than 2 elements. It should return a list/tuple of exactly 2 integers.\"\n",
        "    elif not all(isinstance(i, int) for i in answer):  # check if all elements in answer are int\n",
        "        return \"Error : your function returned a list/tuple of elements, but not all of them are integers. It should return a list/tuple of exactly 2 integers.\"\n",
        "    elif given_network.isFriend(answer[0], answer[1]): # check if the recommended friendship already exists\n",
        "        return \"Error : your function returned an existing friend pair \" + str(answer)\n",
        "    else:\n",
        "        return None  # no problem, no error msg\n",
        "\n",
        "\n",
        "# Download a network\n",
        "def download(url, file):\n",
        "    if os.path.isfile(file):\n",
        "        print(file + \" already downloaded. You can see it if you click on the folder icon at the left\")\n",
        "    else:\n",
        "        print(\"Downloading file \" + file + \" ...\", end=\"\")\n",
        "        urlretrieve(url, file)\n",
        "        print(\"OK\")\n",
        "\n",
        "\n",
        "# download networks for testing\n",
        "download('https://github.com/HuiwenLiu/CT-T2_AY22-23/raw/main/network_example.txt', 'network_example.txt')  # 11 users, 24 edges\n",
        "download('https://github.com/HuiwenLiu/CT-T2_AY22-23/raw/main/network_g1.txt', 'network_g1.txt')  # 50 users,  605 edges\n",
        "download('https://github.com/HuiwenLiu/CT-T2_AY22-23/raw/main/network_g2.txt', 'network_g2.txt')  # 100 users, 2513 edges\n",
        "download('https://github.com/HuiwenLiu/CT-T2_AY22-23/raw/main/network_g3.txt', 'network_g3.txt')  # 200 users, 9986 edges\n",
        "download('https://github.com/HuiwenLiu/CT-T2_AY22-23/raw/main/network_t1.txt', 'network_t1.txt')  # 50 users,  253 edges\n",
        "download('https://github.com/HuiwenLiu/CT-T2_AY22-23/raw/main/network_t2.txt', 'network_t2.txt')  # 100 users, 1034 edges\n",
        "download('https://github.com/HuiwenLiu/CT-T2_AY22-23/raw/main/network_t3.txt', 'network_t3.txt')  # 200 users, 3972 edges\n",
        "\n",
        "network_example = Network('network_example.txt')\n",
        "network_g1 = Network('network_g1.txt')\n",
        "network_g2 = Network('network_g2.txt')\n",
        "network_g3 = Network('network_g3.txt')\n",
        "network_t1 = Network('network_t1.txt')\n",
        "network_t2 = Network('network_t2.txt')\n",
        "network_t3 = Network('network_t3.txt')"
      ],
      "metadata": {
        "id": "GV2-3FsEZrCT"
      },
      "execution_count": null,
      "outputs": []
    },
    {
      "cell_type": "markdown",
      "source": [
        "The following diagram gives an idea of the friendship profile of example networks:\n",
        "\n",
        "Example network_g1 (N = 50, E = 605).\n",
        "\n",
        "![image.png](https://github.com/HuiwenLiu/CT-T2_AY22-23/raw/main/network_g1.png)\n",
        "\n",
        "Example network_t1 (Real network, N = 50, E = 253).\n",
        "\n",
        "![image.png](https://github.com/HuiwenLiu/CT-T2_AY22-23/raw/main/network_t1.png)\n"
      ],
      "metadata": {
        "id": "KCCIVAAirTrl"
      }
    },
    {
      "cell_type": "markdown",
      "source": [
        "## (12) Requirement\n",
        "You are required to implement your algorithm in the following function (`recommendFriendPair`). This function takes in a social network and returns your solution (`u, v`) in the network.\n",
        "\n",
        "Your solution must **not** be a pair who are already friends.\n",
        "\n",
        "Remember that your algorithm is **not** expected to return the optimal solution (i.e. the pair with the highest $S$ score), but a good algorithm will return a near-optimal solution. In other words, it is definitely OK if your algorithm does not result in the \"real best solution\"."
      ],
      "metadata": {
        "id": "RQHWKAQ2sJgK"
      }
    },
    {
      "cell_type": "code",
      "source": [
        "# Team: Gx_Ty (<-- insert team ID here)\n",
        "\n",
        "# Write your algorithm in this function.\n",
        "# Except for import statements, all other code must be within the recommendFriendPair function or additional helper functions\n",
        "def recommendFriendPair(given_network):\n",
        "  '''\n",
        "    return (u, v) # the recommended friend pair that your algo has determined\n",
        "  '''\n",
        "  network = given_network.network\n",
        "  N = given_network.N\n",
        "  E = given_network.E\n",
        "  # ---------------------------------------------------------------------------\n",
        "  # do not change the code above. you may change the code below\n",
        "\n",
        "  best_score = float('-inf')\n",
        "  best_pair = None\n",
        "  mutual_friends_dict = {}\n",
        "\n",
        "    # create hash table/dictionary of mutual friends for each pair of non-friends\n",
        "  for u in range(given_network.N):\n",
        "    for v in range(u+1, given_network.N):\n",
        "      if not given_network.isFriend(u, v): # only consider pairs who are not already friends\n",
        "        mutual_friends = set(given_network.getNeighbors(u)).intersection(set(given_network.getNeighbors(v)))\n",
        "        if len(mutual_friends) > 0:\n",
        "          mutual_friends_dict[(u,v)] = mutual_friends\n",
        "\n",
        "    # iterate over hash table/dictionary keys and calculate S score for each non-friend pair\n",
        "  for uv_pair, mutual_friends in mutual_friends_dict.items():\n",
        "    score = 0\n",
        "    for f in mutual_friends:\n",
        "      score += 1 / np.log10(len(given_network.getNeighbors(f)))\n",
        "      if score > best_score:\n",
        "        best_score = score\n",
        "        best_pair = uv_pair\n",
        "\n",
        "  return best_pair\n"
      ],
      "metadata": {
        "id": "pVzUJJqc5agm"
      },
      "execution_count": null,
      "outputs": []
    },
    {
      "cell_type": "markdown",
      "source": [
        "For submission, copy the whole chunk of code in the previous code box and paste the text into `TeamName.py` (e.g. `G1_T01.py`). Zip this file together with your report (`TeamName.zip`) and submit a single zip file to eLearn. Only the latest submission by any member of your team will be kept on eLearn."
      ],
      "metadata": {
        "id": "58jUCzzRt8gk"
      }
    },
    {
      "cell_type": "markdown",
      "source": [
        "Run the following test case, and see what happens. You will see an error that `your function returned an existing friend pair` for now because:\n",
        "* You are using `network_example.txt` (the 11-user example network given above).\n",
        "* The original `recommendFriendPair` function returns (0, 1) by default. Users 0 (A) and 1 (B) are friends in network_example.\n",
        "\n",
        "Remember that a \"valid answer\" is simply a pair that is not currently friends in the network being used. Both users in the valid answer must exist in the network (e.g. for network_example, if either u or v is >11, you will get the error `Cannot find the user user_id in the network!`).\n",
        "\n",
        "\n",
        "To use the test case, modify `file_name`'s value on the first line in order to use one of the other given 6 sample networks. Feel free to edit the test case code in any way to test your solution. The test code should not be submitted. But remember that we will test for the validity as well as the quality ($S$ score) of your solution using our test code.\n"
      ],
      "metadata": {
        "id": "H2_65Bc-0Cd5"
      }
    },
    {
      "cell_type": "code",
      "source": [
        "# Test case (1x)\n",
        "file_name = \"network_g3.txt\"  # <---- CHANGE CSV FILE NAME HERE to use a different network!!!!!!\n",
        "\n",
        "import time, copy\n",
        "# (1) ----- prepare data ------\n",
        "print(\"(1) Reading data from \" + file_name + \" now...\\n\")\n",
        "given_network = Network(file_name)\n",
        "cloned_given_network = copy.deepcopy(given_network)  # make a clone of given_network\n",
        "# cloned_given_network (a clone) is passed into recommendFriendPair instead of the original. In case students' algo modifies the network passed in.\n",
        "\n",
        "# (2) ----- run the test case ------\n",
        "print(\"(2) Starting timer...\")\n",
        "print(\"Calling your function now using the network read from \" + file_name)\n",
        "start_time = time.time()\n",
        "answer = recommendFriendPair(cloned_given_network) # calls your function\n",
        "time_taken = time.time() - start_time\n",
        "print(\"Stopping timer...\")\n",
        "print(\"Execution time \" + str(time_taken) + \" seconds.\\n\")    # display time lapsed\n",
        "# if you see \"e\" in your execution time, that's scientific notation.\n",
        "# e.g. 1e-5 seconds means 1 × 10^(−5) or 0.00001 seconds\n",
        "# e.g. 7.8e-05 seconds means 7.8 x 10^(-5) seconds\n",
        "\n",
        "# (3) ----- correctness testing code ------\n",
        "print(\"(3) Checking your answer...\")\n",
        "error_message = get_error_message(answer, given_network)\n",
        "\n",
        "if error_message == None:\n",
        "  # all is good\n",
        "  print(\"Your function returned a valid answer\")\n",
        "  # quality_score = compute_quality_score(answer, given_network) #S score\n",
        "  print(\"Returned close friend pair:\", answer)\n",
        "  # print(\"Quality score:\", quality_score)\n",
        "else:\n",
        "  # there is an error\n",
        "  print(\"Your function is not correctly written :-(\")\n",
        "  print(error_message)"
      ],
      "metadata": {
        "id": "PkLwMyAn201n"
      },
      "execution_count": null,
      "outputs": []
    },
    {
      "cell_type": "markdown",
      "source": [
        "The next test case below is similiar to the one above, except that it will call `recommendFriendPair` ten times and print out the average execution time. If your algorithm is deterministic (meaning it will always return the same pair with the same network), do ensure that the returned pair is identical for all 10 runs (since the same network is being passed into your `recommendFriendPair` function)."
      ],
      "metadata": {
        "id": "lXGHqA0I4VV3"
      }
    },
    {
      "cell_type": "code",
      "source": [
        "# Test Case (10x)\n",
        "# Evaluate multiple times (10 times), return the average execution time.\n",
        "file_name = \"network_g3.txt\"  # <---- CHANGE CSV FILE NAME HERE to use a different network!!!!!!\n",
        "\n",
        "import time\n",
        "\n",
        "# (1) ----- prepare data ------\n",
        "print(\"(1) Reading data from \" + file_name + \" now...\\n\")\n",
        "given_network = Network(file_name)\n",
        "\n",
        "# (2) ----- run the test case ------\n",
        "print(\"(2) Starting timer...\")\n",
        "print(\"Calling your function now using the network read from \" + file_name)\n",
        "execute_times = []\n",
        "\n",
        "for _ in range(10): # repeats 10x to get average execution time\n",
        "  cloned_given_network = copy.deepcopy(given_network)  # make a clone of given_network\n",
        "\n",
        "  start_time = time.time()\n",
        "  answer = recommendFriendPair(cloned_given_network) # calls your function\n",
        "  time_taken = time.time() - start_time\n",
        "  execute_times.append(time_taken)\n",
        "  print(\"Stopping timer...\")\n",
        "  print(\"Execution time \" + str(time_taken) + \" seconds.\\n\")    # display time lapsed\n",
        "\n",
        "  # (3) ----- correctness testing code ------\n",
        "  print(\"(3) Checking your answer...\")\n",
        "  error_message = get_error_message(answer, given_network)\n",
        "\n",
        "  if error_message == None:\n",
        "    # all is good\n",
        "    print(\"Your function returned a valid answer\")\n",
        "    print(\"Returned recommended friend pair:\", answer)\n",
        "  else:\n",
        "    # there is an error\n",
        "    print(\"Your function is not correctly written :-(\")\n",
        "    print(error_message)\n",
        "\n",
        "# print out avg execution time.\n",
        "print('\\n')\n",
        "print('Avg. execution time =', sum(execute_times) / len(execute_times), \" seconds\")"
      ],
      "metadata": {
        "id": "VFvGSHrnWlX0"
      },
      "execution_count": null,
      "outputs": []
    },
    {
      "cell_type": "markdown",
      "source": [
        "Acknowledgement:\n",
        "Senior TA Liu Huiwen is the primary author of this project."
      ],
      "metadata": {
        "id": "YgXqirIBMXy1"
      }
    }
  ]
}